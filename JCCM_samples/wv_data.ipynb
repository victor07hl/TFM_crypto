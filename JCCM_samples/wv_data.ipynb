{
 "cells": [
  {
   "cell_type": "code",
   "execution_count": 1,
   "metadata": {},
   "outputs": [],
   "source": [
    "import requests\n",
    "import datetime\n",
    "import time \n",
    "import os\n",
    "import pandas as pd\n",
    "from IPython.display import clear_output, display"
   ]
  },
  {
   "cell_type": "code",
   "execution_count": 2,
   "metadata": {},
   "outputs": [],
   "source": [
    "# Definir los parámetros para cada símbolo y rango de fechas\n",
    "parametros = {\n",
    "    \"PEPEUSDT\": {\n",
    "        # fecha de creación de PEPE\n",
    "        \"fechainicial\": datetime.datetime(2023, 4, 17),\n",
    "        \"fechafinal\": datetime.datetime.now()\n",
    "    },\n",
    "    \"DOGEUSDT\": {\n",
    "        # año de estabilización de DOGE\n",
    "        \"fechainicial\": datetime.datetime(2015, 1, 1),\n",
    "        \"fechafinal\": datetime.datetime.now()\n",
    "    },\n",
    "    \"XRPUSDT\": {\n",
    "        # año de estabilización de XRP\n",
    "        \"fechainicial\": datetime.datetime(2014, 1, 1),\n",
    "        \"fechafinal\": datetime.datetime.now()\n",
    "    }\n",
    "}\n",
    "\n",
    "# Parámetros de la solicitud\n",
    "symbol = \"PEPEUSDT\"  \n",
    "#symbol = \"DOGEUSDT\"\n",
    "#symbol = \"XRPUSDT\" \n",
    "\n",
    "fechainicial= parametros[symbol][\"fechainicial\"]\n",
    "fechafinal= parametros[symbol][\"fechafinal\"]"
   ]
  },
  {
   "cell_type": "code",
   "execution_count": 3,
   "metadata": {},
   "outputs": [],
   "source": [
    "# URL de la API de Binance\n",
    "base_url = \"https://api.binance.com\"\n",
    "#interval = \"1d\"  # Intervalo de tiempo (1 día)\n",
    "interval = \"1h\"  # Intervalo de tiempo (1 hora)\n",
    "# Binance API limit\n",
    "limit = 500  # Límite de la API de Binance\n",
    "sleep_time = 0.25 #Tiempo de espera entre solicitudes (en segundos), ajustar según sea necesario.\n"
   ]
  },
  {
   "cell_type": "code",
   "execution_count": 4,
   "metadata": {},
   "outputs": [],
   "source": [
    "nombre_archivo = f\"datos_{symbol}.csv\"\n",
    "data_dir = \"./data\"\n",
    "# Definir los nombres de las columnas\n",
    "# La documentación de la API de Binance no proporciona los nombres de las columnas directamente.\n",
    "# Puedes encontrar la descripción de cada valor en la respuesta aquí:\n",
    "# https://binance-docs.github.io/apidocs/spot/en/#kline-candlestick-data\n",
    "column_names = [\n",
    "    \"Open time\", \n",
    "    \"Open\", \"High\", \"Low\", \"Close\",\n",
    "    \"Volume\", \n",
    "    \"Close time\",\n",
    "    \"Quote asset volume\", \"Number of trades\", \"Taker buy base asset volume\",\n",
    "    \"Taker buy quote asset volume\", \"Ignore\"\n",
    "]"
   ]
  },
  {
   "cell_type": "code",
   "execution_count": 5,
   "metadata": {},
   "outputs": [],
   "source": [
    "# Function to fetch data in chunks\n",
    "def fetch_binance_data(symbol, interval, startTime, endTime):\n",
    "    all_data = []\n",
    "    numFragmentos = 0\n",
    "    total_records = 0\n",
    "    while startTime < endTime:\n",
    "        clear_output(wait=True)\n",
    "        try:\n",
    "            url = f\"{base_url}/api/v3/klines?symbol={symbol}&interval={interval}&startTime={startTime}&endTime={endTime}&limit={limit}\"\n",
    "            response = requests.get(url)\n",
    "            response.raise_for_status() # Lanza una excepción si hay un error HTTP (código de estado != 200)\n",
    "            data = response.json()\n",
    "            if data:\n",
    "                numFragmentos += 1\n",
    "                records_in_fragment = len(data)\n",
    "                total_records += records_in_fragment\n",
    "                display(f\"Fragmento {numFragmentos} obtenido: {records_in_fragment} registros. Total: {total_records}\")\n",
    "                all_data.extend(data)\n",
    "                # Usar el tiempo de apertura para evitar superposiciones\n",
    "                last_open_time = data[-1][0]\n",
    "                startTime = last_open_time + 1\n",
    "                time.sleep(sleep_time) #Añadimos un tiempo de espera para evitar sobrecargar la API\n",
    "            else:\n",
    "                display(f\"Fragmento vacío.  Posiblemente se ha llegado al final de los datos.Total: {total_records}\")\n",
    "                break\n",
    "        except requests.exceptions.RequestException as e:\n",
    "            print(f\"Error al obtener datos: {e}\")\n",
    "            break  # Detener si hay un error de red\n",
    "        except Exception as e: #Capturar cualquier otra excepción inesperada\n",
    "            print(f\"Ocurrió un error inesperado: {e}\")\n",
    "            break\n",
    "\n",
    "    return all_data"
   ]
  },
  {
   "cell_type": "code",
   "execution_count": 6,
   "metadata": {},
   "outputs": [
    {
     "data": {
      "text/plain": [
       "'Fragmento vacío.  Posiblemente se ha llegado al final de los datos.Total: 15338'"
      ]
     },
     "metadata": {},
     "output_type": "display_data"
    }
   ],
   "source": [
    "# Convierte la fecha a milisegundos \n",
    "startTime = int(fechainicial.timestamp() * 1000)\n",
    "endTime = int(fechafinal.timestamp() * 1000)\n",
    "# Fetch data using the function\n",
    "data = fetch_binance_data(symbol, interval, startTime, endTime)"
   ]
  },
  {
   "cell_type": "code",
   "execution_count": 8,
   "metadata": {},
   "outputs": [
    {
     "name": "stdout",
     "output_type": "stream",
     "text": [
      "| Open time_date      | Close time_date            | Open time     | Close time    | Open     | High     | Low      | Close    | Variation   | Volume      | Quote asset volume   | Number of trades   | Taker buy base asset volume   | Taker buy quote asset volume   | Ignore   |\n",
      "|:--------------------|:---------------------------|:--------------|:--------------|:---------|:---------|:---------|:---------|:------------|:------------|:---------------------|:-------------------|:------------------------------|:-------------------------------|:---------|\n",
      "| 2023-05-05T18:00:00 | 2023-05-05T18:59:59.999000 | 1683309600000 | 1683313199999 | 1.97e-06 | 4.39e-06 | 1.97e-06 | 3.07e-06 | nan         | 1.82516e+13 | 6.05435e+07          | 182243             | 9.45969e+12                   | 3.14929e+07                    | 0        |\n",
      "| 2023-05-05T19:00:00 | 2023-05-05T19:59:59.999000 | 1683313200000 | 1683316799999 | 3.07e-06 | 3.47e-06 | 3e-06    | 3.35e-06 | 2.8e-07     | 7.30056e+12 | 2.3552e+07           | 82657              | 3.90503e+12                   | 1.26158e+07                    | 0        |\n",
      "| 2023-05-05T20:00:00 | 2023-05-05T20:59:59.999000 | 1683316800000 | 1683320399999 | 3.35e-06 | 3.57e-06 | 3.21e-06 | 3.52e-06 | 1.7e-07     | 5.6518e+12  | 1.92491e+07          | 61234              | 3.04022e+12                   | 1.03806e+07                    | 0        |\n",
      "| 2023-05-05T21:00:00 | 2023-05-05T21:59:59.999000 | 1683320400000 | 1683323999999 | 3.51e-06 | 3.57e-06 | 3.1e-06  | 3.2e-06  | -3.2e-07    | 5.63035e+12 | 1.88435e+07          | 56328              | 2.74955e+12                   | 9.20704e+06                    | 0        |\n",
      "| 2023-05-05T22:00:00 | 2023-05-05T22:59:59.999000 | 1683324000000 | 1683327599999 | 3.2e-06  | 3.42e-06 | 3.15e-06 | 3.33e-06 | 1.3e-07     | 3.8923e+12  | 1.28637e+07          | 40319              | 2.07012e+12                   | 6.84912e+06                    | 0        |\n"
     ]
    }
   ],
   "source": [
    "# Convertir los datos a un DataFrame de pandas\n",
    "df = pd.DataFrame(data, columns=column_names)\n",
    "\n",
    "# Convertir \"Open time\" y \"Close time\" a datetime y darle formato ISO 8601\n",
    "df['Open time_date'] = pd.to_datetime(df['Open time'], unit='ms').apply(lambda x: x.isoformat())\n",
    "df['Close time_date'] = pd.to_datetime(df['Close time'], unit='ms').apply(lambda x: x.isoformat())\n",
    "\n",
    "# Calcular la variación del precio\n",
    "df['Variation'] = df['Close'].astype(float).diff()\n",
    "\n",
    "# Definir el orden de las columnas\n",
    "column_order = [\n",
    "    \"Open time_date\", \"Close time_date\", \"Open time\", \"Close time\", \"Open\", \"High\", \"Low\", \"Close\",\"Variation\",\n",
    "    \"Volume\", \"Quote asset volume\", \"Number of trades\", \"Taker buy base asset volume\",\n",
    "    \"Taker buy quote asset volume\", \"Ignore\"\n",
    "]\n",
    "# Reordenar las columnas del DataFrame\n",
    "df = df[column_order]\n",
    "\n",
    "print(df.head(5).to_markdown(index=False, numalign=\"left\", stralign=\"left\")) \n"
   ]
  },
  {
   "cell_type": "code",
   "execution_count": 10,
   "metadata": {},
   "outputs": [
    {
     "ename": "MemoryError",
     "evalue": "",
     "output_type": "error",
     "traceback": [
      "\u001b[1;31m---------------------------------------------------------------------------\u001b[0m",
      "\u001b[1;31mMemoryError\u001b[0m                               Traceback (most recent call last)",
      "Cell \u001b[1;32mIn[10], line 1\u001b[0m\n\u001b[1;32m----> 1\u001b[0m df[\u001b[38;5;124m'\u001b[39m\u001b[38;5;124mClosex10\u001b[39m\u001b[38;5;124m'\u001b[39m] \u001b[38;5;241m=\u001b[39m \u001b[43mdf\u001b[49m\u001b[43m[\u001b[49m\u001b[38;5;124;43m'\u001b[39;49m\u001b[38;5;124;43mClose\u001b[39;49m\u001b[38;5;124;43m'\u001b[39;49m\u001b[43m]\u001b[49m\u001b[43m \u001b[49m\u001b[38;5;241;43m*\u001b[39;49m\u001b[43m \u001b[49m\u001b[38;5;241;43m1000000\u001b[39;49m\n",
      "File \u001b[1;32mc:\\Users\\mefis\\Desktop\\MAESTRIA DE INTELIGENCIA ARTIFICIAL\\TFM\\ambiente_tfm\\Lib\\site-packages\\pandas\\core\\ops\\common.py:76\u001b[0m, in \u001b[0;36m_unpack_zerodim_and_defer.<locals>.new_method\u001b[1;34m(self, other)\u001b[0m\n\u001b[0;32m     72\u001b[0m             \u001b[38;5;28;01mreturn\u001b[39;00m \u001b[38;5;28mNotImplemented\u001b[39m\n\u001b[0;32m     74\u001b[0m other \u001b[38;5;241m=\u001b[39m item_from_zerodim(other)\n\u001b[1;32m---> 76\u001b[0m \u001b[38;5;28;01mreturn\u001b[39;00m \u001b[43mmethod\u001b[49m\u001b[43m(\u001b[49m\u001b[38;5;28;43mself\u001b[39;49m\u001b[43m,\u001b[49m\u001b[43m \u001b[49m\u001b[43mother\u001b[49m\u001b[43m)\u001b[49m\n",
      "File \u001b[1;32mc:\\Users\\mefis\\Desktop\\MAESTRIA DE INTELIGENCIA ARTIFICIAL\\TFM\\ambiente_tfm\\Lib\\site-packages\\pandas\\core\\arraylike.py:202\u001b[0m, in \u001b[0;36mOpsMixin.__mul__\u001b[1;34m(self, other)\u001b[0m\n\u001b[0;32m    200\u001b[0m \u001b[38;5;129m@unpack_zerodim_and_defer\u001b[39m(\u001b[38;5;124m\"\u001b[39m\u001b[38;5;124m__mul__\u001b[39m\u001b[38;5;124m\"\u001b[39m)\n\u001b[0;32m    201\u001b[0m \u001b[38;5;28;01mdef\u001b[39;00m\u001b[38;5;250m \u001b[39m\u001b[38;5;21m__mul__\u001b[39m(\u001b[38;5;28mself\u001b[39m, other):\n\u001b[1;32m--> 202\u001b[0m     \u001b[38;5;28;01mreturn\u001b[39;00m \u001b[38;5;28;43mself\u001b[39;49m\u001b[38;5;241;43m.\u001b[39;49m\u001b[43m_arith_method\u001b[49m\u001b[43m(\u001b[49m\u001b[43mother\u001b[49m\u001b[43m,\u001b[49m\u001b[43m \u001b[49m\u001b[43moperator\u001b[49m\u001b[38;5;241;43m.\u001b[39;49m\u001b[43mmul\u001b[49m\u001b[43m)\u001b[49m\n",
      "File \u001b[1;32mc:\\Users\\mefis\\Desktop\\MAESTRIA DE INTELIGENCIA ARTIFICIAL\\TFM\\ambiente_tfm\\Lib\\site-packages\\pandas\\core\\series.py:6135\u001b[0m, in \u001b[0;36mSeries._arith_method\u001b[1;34m(self, other, op)\u001b[0m\n\u001b[0;32m   6133\u001b[0m \u001b[38;5;28;01mdef\u001b[39;00m\u001b[38;5;250m \u001b[39m\u001b[38;5;21m_arith_method\u001b[39m(\u001b[38;5;28mself\u001b[39m, other, op):\n\u001b[0;32m   6134\u001b[0m     \u001b[38;5;28mself\u001b[39m, other \u001b[38;5;241m=\u001b[39m \u001b[38;5;28mself\u001b[39m\u001b[38;5;241m.\u001b[39m_align_for_op(other)\n\u001b[1;32m-> 6135\u001b[0m     \u001b[38;5;28;01mreturn\u001b[39;00m \u001b[43mbase\u001b[49m\u001b[38;5;241;43m.\u001b[39;49m\u001b[43mIndexOpsMixin\u001b[49m\u001b[38;5;241;43m.\u001b[39;49m\u001b[43m_arith_method\u001b[49m\u001b[43m(\u001b[49m\u001b[38;5;28;43mself\u001b[39;49m\u001b[43m,\u001b[49m\u001b[43m \u001b[49m\u001b[43mother\u001b[49m\u001b[43m,\u001b[49m\u001b[43m \u001b[49m\u001b[43mop\u001b[49m\u001b[43m)\u001b[49m\n",
      "File \u001b[1;32mc:\\Users\\mefis\\Desktop\\MAESTRIA DE INTELIGENCIA ARTIFICIAL\\TFM\\ambiente_tfm\\Lib\\site-packages\\pandas\\core\\base.py:1382\u001b[0m, in \u001b[0;36mIndexOpsMixin._arith_method\u001b[1;34m(self, other, op)\u001b[0m\n\u001b[0;32m   1379\u001b[0m     rvalues \u001b[38;5;241m=\u001b[39m np\u001b[38;5;241m.\u001b[39marange(rvalues\u001b[38;5;241m.\u001b[39mstart, rvalues\u001b[38;5;241m.\u001b[39mstop, rvalues\u001b[38;5;241m.\u001b[39mstep)\n\u001b[0;32m   1381\u001b[0m \u001b[38;5;28;01mwith\u001b[39;00m np\u001b[38;5;241m.\u001b[39merrstate(\u001b[38;5;28mall\u001b[39m\u001b[38;5;241m=\u001b[39m\u001b[38;5;124m\"\u001b[39m\u001b[38;5;124mignore\u001b[39m\u001b[38;5;124m\"\u001b[39m):\n\u001b[1;32m-> 1382\u001b[0m     result \u001b[38;5;241m=\u001b[39m \u001b[43mops\u001b[49m\u001b[38;5;241;43m.\u001b[39;49m\u001b[43marithmetic_op\u001b[49m\u001b[43m(\u001b[49m\u001b[43mlvalues\u001b[49m\u001b[43m,\u001b[49m\u001b[43m \u001b[49m\u001b[43mrvalues\u001b[49m\u001b[43m,\u001b[49m\u001b[43m \u001b[49m\u001b[43mop\u001b[49m\u001b[43m)\u001b[49m\n\u001b[0;32m   1384\u001b[0m \u001b[38;5;28;01mreturn\u001b[39;00m \u001b[38;5;28mself\u001b[39m\u001b[38;5;241m.\u001b[39m_construct_result(result, name\u001b[38;5;241m=\u001b[39mres_name)\n",
      "File \u001b[1;32mc:\\Users\\mefis\\Desktop\\MAESTRIA DE INTELIGENCIA ARTIFICIAL\\TFM\\ambiente_tfm\\Lib\\site-packages\\pandas\\core\\ops\\array_ops.py:283\u001b[0m, in \u001b[0;36marithmetic_op\u001b[1;34m(left, right, op)\u001b[0m\n\u001b[0;32m    279\u001b[0m     _bool_arith_check(op, left, right)  \u001b[38;5;66;03m# type: ignore[arg-type]\u001b[39;00m\n\u001b[0;32m    281\u001b[0m     \u001b[38;5;66;03m# error: Argument 1 to \"_na_arithmetic_op\" has incompatible type\u001b[39;00m\n\u001b[0;32m    282\u001b[0m     \u001b[38;5;66;03m# \"Union[ExtensionArray, ndarray[Any, Any]]\"; expected \"ndarray[Any, Any]\"\u001b[39;00m\n\u001b[1;32m--> 283\u001b[0m     res_values \u001b[38;5;241m=\u001b[39m \u001b[43m_na_arithmetic_op\u001b[49m\u001b[43m(\u001b[49m\u001b[43mleft\u001b[49m\u001b[43m,\u001b[49m\u001b[43m \u001b[49m\u001b[43mright\u001b[49m\u001b[43m,\u001b[49m\u001b[43m \u001b[49m\u001b[43mop\u001b[49m\u001b[43m)\u001b[49m  \u001b[38;5;66;03m# type: ignore[arg-type]\u001b[39;00m\n\u001b[0;32m    285\u001b[0m \u001b[38;5;28;01mreturn\u001b[39;00m res_values\n",
      "File \u001b[1;32mc:\\Users\\mefis\\Desktop\\MAESTRIA DE INTELIGENCIA ARTIFICIAL\\TFM\\ambiente_tfm\\Lib\\site-packages\\pandas\\core\\ops\\array_ops.py:218\u001b[0m, in \u001b[0;36m_na_arithmetic_op\u001b[1;34m(left, right, op, is_cmp)\u001b[0m\n\u001b[0;32m    215\u001b[0m     func \u001b[38;5;241m=\u001b[39m partial(expressions\u001b[38;5;241m.\u001b[39mevaluate, op)\n\u001b[0;32m    217\u001b[0m \u001b[38;5;28;01mtry\u001b[39;00m:\n\u001b[1;32m--> 218\u001b[0m     result \u001b[38;5;241m=\u001b[39m \u001b[43mfunc\u001b[49m\u001b[43m(\u001b[49m\u001b[43mleft\u001b[49m\u001b[43m,\u001b[49m\u001b[43m \u001b[49m\u001b[43mright\u001b[49m\u001b[43m)\u001b[49m\n\u001b[0;32m    219\u001b[0m \u001b[38;5;28;01mexcept\u001b[39;00m \u001b[38;5;167;01mTypeError\u001b[39;00m:\n\u001b[0;32m    220\u001b[0m     \u001b[38;5;28;01mif\u001b[39;00m \u001b[38;5;129;01mnot\u001b[39;00m is_cmp \u001b[38;5;129;01mand\u001b[39;00m (\n\u001b[0;32m    221\u001b[0m         left\u001b[38;5;241m.\u001b[39mdtype \u001b[38;5;241m==\u001b[39m \u001b[38;5;28mobject\u001b[39m \u001b[38;5;129;01mor\u001b[39;00m \u001b[38;5;28mgetattr\u001b[39m(right, \u001b[38;5;124m\"\u001b[39m\u001b[38;5;124mdtype\u001b[39m\u001b[38;5;124m\"\u001b[39m, \u001b[38;5;28;01mNone\u001b[39;00m) \u001b[38;5;241m==\u001b[39m \u001b[38;5;28mobject\u001b[39m\n\u001b[0;32m    222\u001b[0m     ):\n\u001b[1;32m   (...)\u001b[0m\n\u001b[0;32m    225\u001b[0m         \u001b[38;5;66;03m# Don't do this for comparisons, as that will handle complex numbers\u001b[39;00m\n\u001b[0;32m    226\u001b[0m         \u001b[38;5;66;03m#  incorrectly, see GH#32047\u001b[39;00m\n",
      "File \u001b[1;32mc:\\Users\\mefis\\Desktop\\MAESTRIA DE INTELIGENCIA ARTIFICIAL\\TFM\\ambiente_tfm\\Lib\\site-packages\\pandas\\core\\computation\\expressions.py:242\u001b[0m, in \u001b[0;36mevaluate\u001b[1;34m(op, a, b, use_numexpr)\u001b[0m\n\u001b[0;32m    239\u001b[0m \u001b[38;5;28;01mif\u001b[39;00m op_str \u001b[38;5;129;01mis\u001b[39;00m \u001b[38;5;129;01mnot\u001b[39;00m \u001b[38;5;28;01mNone\u001b[39;00m:\n\u001b[0;32m    240\u001b[0m     \u001b[38;5;28;01mif\u001b[39;00m use_numexpr:\n\u001b[0;32m    241\u001b[0m         \u001b[38;5;66;03m# error: \"None\" not callable\u001b[39;00m\n\u001b[1;32m--> 242\u001b[0m         \u001b[38;5;28;01mreturn\u001b[39;00m \u001b[43m_evaluate\u001b[49m\u001b[43m(\u001b[49m\u001b[43mop\u001b[49m\u001b[43m,\u001b[49m\u001b[43m \u001b[49m\u001b[43mop_str\u001b[49m\u001b[43m,\u001b[49m\u001b[43m \u001b[49m\u001b[43ma\u001b[49m\u001b[43m,\u001b[49m\u001b[43m \u001b[49m\u001b[43mb\u001b[49m\u001b[43m)\u001b[49m  \u001b[38;5;66;03m# type: ignore[misc]\u001b[39;00m\n\u001b[0;32m    243\u001b[0m \u001b[38;5;28;01mreturn\u001b[39;00m _evaluate_standard(op, op_str, a, b)\n",
      "File \u001b[1;32mc:\\Users\\mefis\\Desktop\\MAESTRIA DE INTELIGENCIA ARTIFICIAL\\TFM\\ambiente_tfm\\Lib\\site-packages\\pandas\\core\\computation\\expressions.py:73\u001b[0m, in \u001b[0;36m_evaluate_standard\u001b[1;34m(op, op_str, a, b)\u001b[0m\n\u001b[0;32m     71\u001b[0m \u001b[38;5;28;01mif\u001b[39;00m _TEST_MODE:\n\u001b[0;32m     72\u001b[0m     _store_test_result(\u001b[38;5;28;01mFalse\u001b[39;00m)\n\u001b[1;32m---> 73\u001b[0m \u001b[38;5;28;01mreturn\u001b[39;00m \u001b[43mop\u001b[49m\u001b[43m(\u001b[49m\u001b[43ma\u001b[49m\u001b[43m,\u001b[49m\u001b[43m \u001b[49m\u001b[43mb\u001b[49m\u001b[43m)\u001b[49m\n",
      "\u001b[1;31mMemoryError\u001b[0m: "
     ]
    }
   ],
   "source": [
    "df['Closex10'] = df['Close'] * 1000000"
   ]
  },
  {
   "cell_type": "code",
   "execution_count": null,
   "metadata": {},
   "outputs": [],
   "source": []
  }
 ],
 "metadata": {
  "kernelspec": {
   "display_name": "kernel_tfm",
   "language": "python",
   "name": "ambiente_tfm"
  },
  "language_info": {
   "codemirror_mode": {
    "name": "ipython",
    "version": 3
   },
   "file_extension": ".py",
   "mimetype": "text/x-python",
   "name": "python",
   "nbconvert_exporter": "python",
   "pygments_lexer": "ipython3",
   "version": "3.12.3"
  }
 },
 "nbformat": 4,
 "nbformat_minor": 2
}
