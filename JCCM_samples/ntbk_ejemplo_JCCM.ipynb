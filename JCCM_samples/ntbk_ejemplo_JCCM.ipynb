{
 "cells": [
  {
   "cell_type": "markdown",
   "metadata": {},
   "source": [
    "# Importing Libraries"
   ]
  },
  {
   "cell_type": "code",
   "execution_count": 2,
   "metadata": {},
   "outputs": [],
   "source": [
    "import mlflow\n",
    "from mlflow.exceptions import RestException\n",
    "import mlflow.sklearn\n",
    "from mlflow.models import infer_signature\n",
    "from sklearn.datasets import load_iris\n",
    "from sklearn import tree"
   ]
  },
  {
   "cell_type": "markdown",
   "metadata": {},
   "source": [
    "# Setting the mlflow url"
   ]
  },
  {
   "cell_type": "code",
   "execution_count": 3,
   "metadata": {},
   "outputs": [],
   "source": [
    "remote_server_uri = \"http://34.58.215.162:8080/\"  # set to your server URI\n",
    "mlflow.set_tracking_uri(remote_server_uri)"
   ]
  },
  {
   "cell_type": "markdown",
   "metadata": {},
   "source": [
    "# Creating Experiment\n",
    "or getting the id if already exists"
   ]
  },
  {
   "cell_type": "code",
   "execution_count": null,
   "metadata": {},
   "outputs": [],
   "source": [
    "try:\n",
    "    experiment_name = 'MyExperiment' #Puede ser cualquiera siempre y cuando no se troque con otro\n",
    "    experiment_id = (mlflow\n",
    "                        .create_experiment(name=experiment_name\n",
    "                                            ,tags={'created_by':'Victor Moreno'})) #importante poner el nombre de quien lo crea\n",
    "except RestException as r:\n",
    "    print(r)\n",
    "    experiment = mlflow.get_experiment_by_name(experiment_name)\n",
    "    print('Full name',experiment.name)\n",
    "    experiment_id = experiment.experiment_id"
   ]
  },
  {
   "cell_type": "markdown",
   "metadata": {},
   "source": [
    "# Aqui inicia el entrenamiento \n",
    "la idea es colocar la parte del entrenamiento dentro del contexto de mlflow.start_run\n",
    "aunque la idea es registrar el modelo entrenado nomas y las metricas la siguiente celda tiene un ejemplo basico"
   ]
  },
  {
   "cell_type": "code",
   "execution_count": null,
   "metadata": {},
   "outputs": [],
   "source": [
    "#como ejemplo dejo la parte de cargar aparte , para evitar confusiones de que todo lo relacionado \n",
    "#a la ejecucion debe quedar dentro del contexto\n",
    "\n",
    "#Cargando la data y procesandola\n",
    "# load dataset and train model\n",
    "iris = load_iris()"
   ]
  },
  {
   "cell_type": "code",
   "execution_count": null,
   "metadata": {},
   "outputs": [],
   "source": [
    "with mlflow.start_run(experiment_id=experiment_id,\n",
    "                     run_name='run1') as run:\n",
    "    \n",
    "    #instantiating the DecisionTreeClassifier\n",
    "    sk_model = tree.DecisionTreeClassifier()\n",
    "    sk_model = sk_model.fit(iris.data, iris.target) \n",
    "\n",
    "    # log model params\n",
    "    #Los parametros , lo recomendado es poner hiperparametros del modelo o bueno parametros \n",
    "    # el concepto de mlflow es poner los parametros utilizados para entrenar el modelo y de esta forma ir comparando \n",
    "    # y ajustando basado en las metricas \n",
    "    mlflow.log_param(\"criterion\", sk_model.criterion)\n",
    "    mlflow.log_param(\"splitter\", sk_model.splitter)\n",
    "\n",
    "    #este es requisito para cuando se registra el modelo que no vamos hacer registro de modelos por ahora \n",
    "    #sin embargo ayuda como guia para cuando querramos usar el modelo entrenado para hacer inferencias\n",
    "    signature = infer_signature(iris.data, sk_model.predict(iris.data))\n",
    "\n",
    "    # log model\n",
    "    mlflow.sklearn.log_model(sk_model, \"sk_models\", signature=signature)\n",
    "\n",
    "    #Guardando metricas\n",
    "    mlflow.log_metric('MAE',0.00002)\n",
    "    mlflow.log_metric('mse',0.03)\n",
    "\n",
    "    #metricas y parametros pueden ser guardados con un solo comando \n",
    "    mlflow.log_metrics({'metric1':0.7,'metric2':0.08})\n",
    "    mflow.log_params({'param1':'value1','param2':'value2'})\n",
    "\n",
    "    #guardando imagenes de evidencia \n",
    "    mlflow.log_artifact('result.png')\n",
    "    mlflow.log_artifact('result2.png')\n"
   ]
  },
  {
   "cell_type": "markdown",
   "metadata": {},
   "source": [
    "# Nested runs\n",
    "por si se necesita \n"
   ]
  },
  {
   "cell_type": "markdown",
   "metadata": {},
   "source": [
    "with mlflow.start_run(experiment_id=experiment_id, run_name='parent_run') as p_run:\n",
    "    with mlflow.start_run(experiment_id=experiment_id, run_name='child_run') as c_run:\n",
    "\n",
    "        #put your code here "
   ]
  }
 ],
 "metadata": {
  "kernelspec": {
   "display_name": "kernel_tfm",
   "language": "python",
   "name": "ambiente_tfm"
  },
  "language_info": {
   "codemirror_mode": {
    "name": "ipython",
    "version": 3
   },
   "file_extension": ".py",
   "mimetype": "text/x-python",
   "name": "python",
   "nbconvert_exporter": "python",
   "pygments_lexer": "ipython3",
   "version": "3.12.3"
  }
 },
 "nbformat": 4,
 "nbformat_minor": 2
}
