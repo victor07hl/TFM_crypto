{
 "cells": [
  {
   "cell_type": "markdown",
   "metadata": {},
   "source": [
    "# Extracción de datos de cryptos desde Binance"
   ]
  },
  {
   "cell_type": "markdown",
   "metadata": {},
   "source": [
    "## Imports"
   ]
  },
  {
   "cell_type": "code",
   "execution_count": 1,
   "metadata": {},
   "outputs": [
    {
     "ename": "",
     "evalue": "",
     "output_type": "error",
     "traceback": [
      "\u001b[1;31mThe Kernel crashed while executing code in the current cell or a previous cell. \n",
      "\u001b[1;31mPlease review the code in the cell(s) to identify a possible cause of the failure. \n",
      "\u001b[1;31mClick <a href='https://aka.ms/vscodeJupyterKernelCrash'>here</a> for more info. \n",
      "\u001b[1;31mView Jupyter <a href='command:jupyter.viewOutput'>log</a> for further details."
     ]
    }
   ],
   "source": [
    "import requests\n",
    "import datetime\n",
    "import time \n",
    "import os\n",
    "import pandas as pd\n",
    "from IPython.display import clear_output, display"
   ]
  },
  {
   "cell_type": "markdown",
   "metadata": {},
   "source": [
    "## Parámetros"
   ]
  },
  {
   "cell_type": "markdown",
   "metadata": {},
   "source": [
    "### Parametros por crypto"
   ]
  },
  {
   "cell_type": "code",
   "execution_count": 3,
   "metadata": {
    "tags": [
     "parameters"
    ]
   },
   "outputs": [],
   "source": [
    "# Definir los parámetros para cada símbolo y rango de fechas\n",
    "parametros = {\n",
    "    \"PEPEUSDT\": {\n",
    "        # fecha de creación de PEPE\n",
    "        \"fechainicial\": datetime.datetime(2023, 4, 17),\n",
    "        \"fechafinal\": datetime.datetime.now()\n",
    "    },\n",
    "    \"DOGEUSDT\": {\n",
    "        # año de estabilización de DOGE\n",
    "        \"fechainicial\": datetime.datetime(2015, 1, 1),\n",
    "        \"fechafinal\": datetime.datetime.now()\n",
    "    },\n",
    "    \"XRPUSDT\": {\n",
    "        # año de estabilización de XRP\n",
    "        \"fechainicial\": datetime.datetime(2014, 1, 1),\n",
    "        \"fechafinal\": datetime.datetime.now()\n",
    "    }\n",
    "}\n",
    "\n",
    "# Parámetros de la solicitud\n",
    "symbol = \"PEPEUSDT\"  \n",
    "#symbol = \"DOGEUSDT\"\n",
    "#symbol = \"XRPUSDT\" \n",
    "\n",
    "fechainicial= parametros[symbol][\"fechainicial\"]\n",
    "fechafinal= parametros[symbol][\"fechafinal\"]"
   ]
  },
  {
   "cell_type": "markdown",
   "metadata": {},
   "source": [
    "### Parámetros para la API"
   ]
  },
  {
   "cell_type": "code",
   "execution_count": 4,
   "metadata": {
    "tags": [
     "parameters"
    ]
   },
   "outputs": [],
   "source": [
    "# URL de la API de Binance\n",
    "base_url = \"https://api.binance.com\"\n",
    "#interval = \"1d\"  # Intervalo de tiempo (1 día)\n",
    "interval = \"1h\"  # Intervalo de tiempo (1 hora)\n",
    "# Binance API limit\n",
    "limit = 500  # Límite de la API de Binance\n",
    "sleep_time = 0.25 #Tiempo de espera entre solicitudes (en segundos), ajustar según sea necesario.\n"
   ]
  },
  {
   "cell_type": "markdown",
   "metadata": {},
   "source": [
    "### Otras inicializaciones"
   ]
  },
  {
   "cell_type": "code",
   "execution_count": 5,
   "metadata": {
    "tags": [
     "parameters"
    ]
   },
   "outputs": [],
   "source": [
    "nombre_archivo = f\"datos_{symbol}.csv\"\n",
    "data_dir = \"./data\"\n",
    "# Definir los nombres de las columnas\n",
    "# La documentación de la API de Binance no proporciona los nombres de las columnas directamente.\n",
    "# Puedes encontrar la descripción de cada valor en la respuesta aquí:\n",
    "# https://binance-docs.github.io/apidocs/spot/en/#kline-candlestick-data\n",
    "column_names = [\n",
    "    \"Open time\", \n",
    "    \"Open\", \"High\", \"Low\", \"Close\",\n",
    "    \"Volume\", \n",
    "    \"Close time\",\n",
    "    \"Quote asset volume\", \"Number of trades\", \"Taker buy base asset volume\",\n",
    "    \"Taker buy quote asset volume\", \"Ignore\"\n",
    "]"
   ]
  },
  {
   "cell_type": "markdown",
   "metadata": {},
   "source": [
    "## Extracción de los datos"
   ]
  },
  {
   "cell_type": "code",
   "execution_count": 6,
   "metadata": {},
   "outputs": [],
   "source": [
    "# Function to fetch data in chunks\n",
    "def fetch_binance_data(symbol, interval, startTime, endTime):\n",
    "    all_data = []\n",
    "    numFragmentos = 0\n",
    "    total_records = 0\n",
    "    while startTime < endTime:\n",
    "        clear_output(wait=True)\n",
    "        try:\n",
    "            url = f\"{base_url}/api/v3/klines?symbol={symbol}&interval={interval}&startTime={startTime}&endTime={endTime}&limit={limit}\"\n",
    "            response = requests.get(url)\n",
    "            response.raise_for_status() # Lanza una excepción si hay un error HTTP (código de estado != 200)\n",
    "            data = response.json()\n",
    "            if data:\n",
    "                numFragmentos += 1\n",
    "                records_in_fragment = len(data)\n",
    "                total_records += records_in_fragment\n",
    "                display(f\"Fragmento {numFragmentos} obtenido: {records_in_fragment} registros. Total: {total_records}\")\n",
    "                all_data.extend(data)\n",
    "                # Usar el tiempo de apertura para evitar superposiciones\n",
    "                last_open_time = data[-1][0]\n",
    "                startTime = last_open_time + 1\n",
    "                time.sleep(sleep_time) #Añadimos un tiempo de espera para evitar sobrecargar la API\n",
    "            else:\n",
    "                display(f\"Fragmento vacío.  Posiblemente se ha llegado al final de los datos.Total: {total_records}\")\n",
    "                break\n",
    "        except requests.exceptions.RequestException as e:\n",
    "            print(f\"Error al obtener datos: {e}\")\n",
    "            break  # Detener si hay un error de red\n",
    "        except Exception as e: #Capturar cualquier otra excepción inesperada\n",
    "            print(f\"Ocurrió un error inesperado: {e}\")\n",
    "            break\n",
    "\n",
    "    return all_data"
   ]
  },
  {
   "cell_type": "code",
   "execution_count": 7,
   "metadata": {},
   "outputs": [
    {
     "data": {
      "text/plain": [
       "'Fragmento vacío.  Posiblemente se ha llegado al final de los datos.Total: 15106'"
      ]
     },
     "metadata": {},
     "output_type": "display_data"
    }
   ],
   "source": [
    "# Convierte la fecha a milisegundos \n",
    "startTime = int(fechainicial.timestamp() * 1000)\n",
    "endTime = int(fechafinal.timestamp() * 1000)\n",
    "# Fetch data using the function\n",
    "data = fetch_binance_data(symbol, interval, startTime, endTime)"
   ]
  },
  {
   "cell_type": "markdown",
   "metadata": {},
   "source": [
    "## Crear datframe en pandas"
   ]
  },
  {
   "cell_type": "code",
   "execution_count": 9,
   "metadata": {},
   "outputs": [
    {
     "name": "stdout",
     "output_type": "stream",
     "text": [
      "| Open time_date      | Close time_date            | Open time     | Close time    | Open     | High     | Low      | Close    | Variation   | Volume      | Quote asset volume   | Number of trades   | Taker buy base asset volume   | Taker buy quote asset volume   | Ignore   |\n",
      "|:--------------------|:---------------------------|:--------------|:--------------|:---------|:---------|:---------|:---------|:------------|:------------|:---------------------|:-------------------|:------------------------------|:-------------------------------|:---------|\n",
      "| 2023-05-05T18:00:00 | 2023-05-05T18:59:59.999000 | 1683309600000 | 1683313199999 | 1.97e-06 | 4.39e-06 | 1.97e-06 | 3.07e-06 | nan         | 1.82516e+13 | 6.05435e+07          | 182243             | 9.45969e+12                   | 3.14929e+07                    | 0        |\n",
      "| 2023-05-05T19:00:00 | 2023-05-05T19:59:59.999000 | 1683313200000 | 1683316799999 | 3.07e-06 | 3.47e-06 | 3e-06    | 3.35e-06 | 2.8e-07     | 7.30056e+12 | 2.3552e+07           | 82657              | 3.90503e+12                   | 1.26158e+07                    | 0        |\n",
      "| 2023-05-05T20:00:00 | 2023-05-05T20:59:59.999000 | 1683316800000 | 1683320399999 | 3.35e-06 | 3.57e-06 | 3.21e-06 | 3.52e-06 | 1.7e-07     | 5.6518e+12  | 1.92491e+07          | 61234              | 3.04022e+12                   | 1.03806e+07                    | 0        |\n",
      "| 2023-05-05T21:00:00 | 2023-05-05T21:59:59.999000 | 1683320400000 | 1683323999999 | 3.51e-06 | 3.57e-06 | 3.1e-06  | 3.2e-06  | -3.2e-07    | 5.63035e+12 | 1.88435e+07          | 56328              | 2.74955e+12                   | 9.20704e+06                    | 0        |\n",
      "| 2023-05-05T22:00:00 | 2023-05-05T22:59:59.999000 | 1683324000000 | 1683327599999 | 3.2e-06  | 3.42e-06 | 3.15e-06 | 3.33e-06 | 1.3e-07     | 3.8923e+12  | 1.28637e+07          | 40319              | 2.07012e+12                   | 6.84912e+06                    | 0        |\n"
     ]
    }
   ],
   "source": [
    "# Convertir los datos a un DataFrame de pandas\n",
    "df = pd.DataFrame(data, columns=column_names)\n",
    "\n",
    "# Convertir \"Open time\" y \"Close time\" a datetime y darle formato ISO 8601\n",
    "df['Open time_date'] = pd.to_datetime(df['Open time'], unit='ms').apply(lambda x: x.isoformat())\n",
    "df['Close time_date'] = pd.to_datetime(df['Close time'], unit='ms').apply(lambda x: x.isoformat())\n",
    "\n",
    "# Calcular la variación del precio\n",
    "df['Variation'] = df['Close'].astype(float).diff()\n",
    "\n",
    "# Definir el orden de las columnas\n",
    "column_order = [\n",
    "    \"Open time_date\", \"Close time_date\", \"Open time\", \"Close time\", \"Open\", \"High\", \"Low\", \"Close\",\"Variation\",\n",
    "    \"Volume\", \"Quote asset volume\", \"Number of trades\", \"Taker buy base asset volume\",\n",
    "    \"Taker buy quote asset volume\", \"Ignore\"\n",
    "]\n",
    "# Reordenar las columnas del DataFrame\n",
    "df = df[column_order]\n",
    "\n",
    "print(df.head(5).to_markdown(index=False, numalign=\"left\", stralign=\"left\")) \n"
   ]
  },
  {
   "cell_type": "code",
   "execution_count": 11,
   "metadata": {},
   "outputs": [
    {
     "name": "stdout",
     "output_type": "stream",
     "text": [
      "<class 'pandas.core.frame.DataFrame'>\n",
      "RangeIndex: 15106 entries, 0 to 15105\n",
      "Data columns (total 15 columns):\n",
      " #   Column                        Non-Null Count  Dtype  \n",
      "---  ------                        --------------  -----  \n",
      " 0   Open time_date                15106 non-null  object \n",
      " 1   Close time_date               15106 non-null  object \n",
      " 2   Open time                     15106 non-null  int64  \n",
      " 3   Close time                    15106 non-null  int64  \n",
      " 4   Open                          15106 non-null  object \n",
      " 5   High                          15106 non-null  object \n",
      " 6   Low                           15106 non-null  object \n",
      " 7   Close                         15106 non-null  object \n",
      " 8   Variation                     15105 non-null  float64\n",
      " 9   Volume                        15106 non-null  object \n",
      " 10  Quote asset volume            15106 non-null  object \n",
      " 11  Number of trades              15106 non-null  int64  \n",
      " 12  Taker buy base asset volume   15106 non-null  object \n",
      " 13  Taker buy quote asset volume  15106 non-null  object \n",
      " 14  Ignore                        15106 non-null  object \n",
      "dtypes: float64(1), int64(3), object(11)\n",
      "memory usage: 1.7+ MB\n",
      "None\n"
     ]
    }
   ],
   "source": [
    "print(df.info())"
   ]
  },
  {
   "cell_type": "markdown",
   "metadata": {},
   "source": [
    "## Generar archivo de salida"
   ]
  },
  {
   "cell_type": "code",
   "execution_count": 10,
   "metadata": {},
   "outputs": [
    {
     "name": "stdout",
     "output_type": "stream",
     "text": [
      "Los datos se han guardado en el archivo './data\\datos_PEPEUSDT.csv'\n"
     ]
    }
   ],
   "source": [
    "#Crear carpeta data_dir si no existe\n",
    "if not os.path.exists(data_dir):\n",
    "    os.makedirs(data_dir)\n",
    "\n",
    "file_path = os.path.join(data_dir,nombre_archivo )\n",
    "# Guardar el DataFrame en un archivo CSV\n",
    "df.to_csv(file_path, index=False)\n",
    "\n",
    "# Imprimir un mensaje de confirmación\n",
    "print(f\"Los datos se han guardado en el archivo '{file_path}'\")"
   ]
  }
 ],
 "metadata": {
  "kernelspec": {
   "display_name": ".venv",
   "language": "python",
   "name": "python3"
  },
  "language_info": {
   "codemirror_mode": {
    "name": "ipython",
    "version": 3
   },
   "file_extension": ".py",
   "mimetype": "text/x-python",
   "name": "python",
   "nbconvert_exporter": "python",
   "pygments_lexer": "ipython3",
   "version": "3.11.0"
  }
 },
 "nbformat": 4,
 "nbformat_minor": 2
}
