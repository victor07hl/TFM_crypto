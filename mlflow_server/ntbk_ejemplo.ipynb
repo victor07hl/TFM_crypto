{
 "cells": [
  {
   "cell_type": "markdown",
   "metadata": {},
   "source": [
    "# Importing Libraries"
   ]
  },
  {
   "cell_type": "code",
   "execution_count": 2,
   "metadata": {},
   "outputs": [],
   "source": [
    "import mlflow\n",
    "from mlflow.exceptions import RestException\n",
    "import mlflow.sklearn\n",
    "from mlflow.models import infer_signature\n",
    "from sklearn.datasets import load_iris\n",
    "from sklearn import tree"
   ]
  },
  {
   "cell_type": "markdown",
   "metadata": {},
   "source": [
    "# Setting the mlflow url"
   ]
  },
  {
   "cell_type": "code",
   "execution_count": 3,
   "metadata": {},
   "outputs": [],
   "source": [
    "remote_server_uri = \"http://34.58.215.162:8080/\"  # set to your server URI\n",
    "mlflow.set_tracking_uri(remote_server_uri)"
   ]
  },
  {
   "cell_type": "markdown",
   "metadata": {},
   "source": [
    "# Creating Experiment\n",
    "or getting the id if already exists"
   ]
  },
  {
   "cell_type": "code",
   "execution_count": 6,
   "metadata": {},
   "outputs": [
    {
     "name": "stdout",
     "output_type": "stream",
     "text": [
      "RESOURCE_ALREADY_EXISTS: Experiment 'experimentgcp' already exists.\n",
      "Full name experimentgcp\n"
     ]
    }
   ],
   "source": [
    "try:\n",
    "    experiment_name = 'experimentgcp' #Puede ser cualquiera siempre y cuando no se troque con otro\n",
    "    experiment_id = (mlflow\n",
    "                        .create_experiment(name=experiment_name\n",
    "                                            ,tags={'created_by':'Victor Moreno'})) #importante poner el nombre de quien lo crea\n",
    "except RestException as r:\n",
    "    print(r)\n",
    "    experiment = mlflow.get_experiment_by_name(experiment_name)\n",
    "    print('Full name',experiment.name)\n",
    "    experiment_id = experiment.experiment_id"
   ]
  },
  {
   "cell_type": "markdown",
   "metadata": {},
   "source": [
    "# Aqui inicia el entrenamiento \n",
    "la idea es colocar la parte del entrenamiento dentro del contexto de mlflow.start_run\n",
    "aunque la idea es registrar el modelo entrenado nomas y las metricas la siguiente celda tiene un ejemplo basico"
   ]
  },
  {
   "cell_type": "code",
   "execution_count": 7,
   "metadata": {},
   "outputs": [
    {
     "data": {
      "text/html": [
       "<div>\n",
       "<style scoped>\n",
       "    .dataframe tbody tr th:only-of-type {\n",
       "        vertical-align: middle;\n",
       "    }\n",
       "\n",
       "    .dataframe tbody tr th {\n",
       "        vertical-align: top;\n",
       "    }\n",
       "\n",
       "    .dataframe thead th {\n",
       "        text-align: right;\n",
       "    }\n",
       "</style>\n",
       "<table border=\"1\" class=\"dataframe\">\n",
       "  <thead>\n",
       "    <tr style=\"text-align: right;\">\n",
       "      <th></th>\n",
       "      <th>run_id</th>\n",
       "      <th>experiment_id</th>\n",
       "      <th>status</th>\n",
       "      <th>artifact_uri</th>\n",
       "      <th>start_time</th>\n",
       "      <th>end_time</th>\n",
       "      <th>metrics.metric2</th>\n",
       "      <th>metrics.mse</th>\n",
       "      <th>metrics.MAE</th>\n",
       "      <th>metrics.metric1</th>\n",
       "      <th>params.criterion</th>\n",
       "      <th>params.param2</th>\n",
       "      <th>params.param1</th>\n",
       "      <th>params.splitter</th>\n",
       "      <th>params.Predictor</th>\n",
       "      <th>tags.mlflow.user</th>\n",
       "      <th>tags.mlflow.source.type</th>\n",
       "      <th>tags.mlflow.log-model.history</th>\n",
       "      <th>tags.mlflow.source.name</th>\n",
       "      <th>tags.mlflow.runName</th>\n",
       "    </tr>\n",
       "  </thead>\n",
       "  <tbody>\n",
       "    <tr>\n",
       "      <th>0</th>\n",
       "      <td>8a0edb2392c74ea6a30dde8b1ef16592</td>\n",
       "      <td>288852909016828866</td>\n",
       "      <td>FINISHED</td>\n",
       "      <td>mlflow-artifacts:/288852909016828866/8a0edb239...</td>\n",
       "      <td>2025-01-23 03:51:10.268000+00:00</td>\n",
       "      <td>2025-01-23 03:51:18.100000+00:00</td>\n",
       "      <td>0.08</td>\n",
       "      <td>0.03</td>\n",
       "      <td>0.00002</td>\n",
       "      <td>0.7</td>\n",
       "      <td>gini</td>\n",
       "      <td>value2</td>\n",
       "      <td>value1</td>\n",
       "      <td>best</td>\n",
       "      <td>None</td>\n",
       "      <td>victormoreno</td>\n",
       "      <td>LOCAL</td>\n",
       "      <td>[{\"run_id\": \"8a0edb2392c74ea6a30dde8b1ef16592\"...</td>\n",
       "      <td>mlflow_ntbk.py</td>\n",
       "      <td>run1</td>\n",
       "    </tr>\n",
       "    <tr>\n",
       "      <th>1</th>\n",
       "      <td>512dc043f1cd4fe39ba7095b4ab43e67</td>\n",
       "      <td>288852909016828866</td>\n",
       "      <td>FAILED</td>\n",
       "      <td>mlflow-artifacts:/288852909016828866/512dc043f...</td>\n",
       "      <td>2025-01-23 03:48:24.632000+00:00</td>\n",
       "      <td>2025-01-23 03:48:29.862000+00:00</td>\n",
       "      <td>0.08</td>\n",
       "      <td>0.03</td>\n",
       "      <td>0.00002</td>\n",
       "      <td>0.7</td>\n",
       "      <td>gini</td>\n",
       "      <td>None</td>\n",
       "      <td>None</td>\n",
       "      <td>best</td>\n",
       "      <td>None</td>\n",
       "      <td>victormoreno</td>\n",
       "      <td>LOCAL</td>\n",
       "      <td>[{\"run_id\": \"512dc043f1cd4fe39ba7095b4ab43e67\"...</td>\n",
       "      <td>mlflow_ntbk.py</td>\n",
       "      <td>run1</td>\n",
       "    </tr>\n",
       "    <tr>\n",
       "      <th>2</th>\n",
       "      <td>d99852f07e6745819f16bd19fa1af679</td>\n",
       "      <td>288852909016828866</td>\n",
       "      <td>FINISHED</td>\n",
       "      <td>mlflow-artifacts:/288852909016828866/d99852f07...</td>\n",
       "      <td>2025-01-23 03:46:53.764000+00:00</td>\n",
       "      <td>2025-01-23 03:47:00.706000+00:00</td>\n",
       "      <td>NaN</td>\n",
       "      <td>0.03</td>\n",
       "      <td>0.00002</td>\n",
       "      <td>NaN</td>\n",
       "      <td>None</td>\n",
       "      <td>None</td>\n",
       "      <td>None</td>\n",
       "      <td>None</td>\n",
       "      <td>prophet</td>\n",
       "      <td>victormoreno</td>\n",
       "      <td>LOCAL</td>\n",
       "      <td>None</td>\n",
       "      <td>test_runs.py</td>\n",
       "      <td>FirstRun</td>\n",
       "    </tr>\n",
       "    <tr>\n",
       "      <th>3</th>\n",
       "      <td>86977f9853c440b0af8fcf80233fa9a0</td>\n",
       "      <td>288852909016828866</td>\n",
       "      <td>FINISHED</td>\n",
       "      <td>mlflow-artifacts:/288852909016828866/86977f985...</td>\n",
       "      <td>2025-01-23 02:49:39.430000+00:00</td>\n",
       "      <td>2025-01-23 02:49:42.076000+00:00</td>\n",
       "      <td>NaN</td>\n",
       "      <td>0.03</td>\n",
       "      <td>0.00002</td>\n",
       "      <td>NaN</td>\n",
       "      <td>None</td>\n",
       "      <td>None</td>\n",
       "      <td>None</td>\n",
       "      <td>None</td>\n",
       "      <td>prophet</td>\n",
       "      <td>victormoreno</td>\n",
       "      <td>LOCAL</td>\n",
       "      <td>None</td>\n",
       "      <td>test_runs.py</td>\n",
       "      <td>FirstRun</td>\n",
       "    </tr>\n",
       "  </tbody>\n",
       "</table>\n",
       "</div>"
      ],
      "text/plain": [
       "                             run_id       experiment_id    status  \\\n",
       "0  8a0edb2392c74ea6a30dde8b1ef16592  288852909016828866  FINISHED   \n",
       "1  512dc043f1cd4fe39ba7095b4ab43e67  288852909016828866    FAILED   \n",
       "2  d99852f07e6745819f16bd19fa1af679  288852909016828866  FINISHED   \n",
       "3  86977f9853c440b0af8fcf80233fa9a0  288852909016828866  FINISHED   \n",
       "\n",
       "                                        artifact_uri  \\\n",
       "0  mlflow-artifacts:/288852909016828866/8a0edb239...   \n",
       "1  mlflow-artifacts:/288852909016828866/512dc043f...   \n",
       "2  mlflow-artifacts:/288852909016828866/d99852f07...   \n",
       "3  mlflow-artifacts:/288852909016828866/86977f985...   \n",
       "\n",
       "                        start_time                         end_time  \\\n",
       "0 2025-01-23 03:51:10.268000+00:00 2025-01-23 03:51:18.100000+00:00   \n",
       "1 2025-01-23 03:48:24.632000+00:00 2025-01-23 03:48:29.862000+00:00   \n",
       "2 2025-01-23 03:46:53.764000+00:00 2025-01-23 03:47:00.706000+00:00   \n",
       "3 2025-01-23 02:49:39.430000+00:00 2025-01-23 02:49:42.076000+00:00   \n",
       "\n",
       "   metrics.metric2  metrics.mse  metrics.MAE  metrics.metric1  \\\n",
       "0             0.08         0.03      0.00002              0.7   \n",
       "1             0.08         0.03      0.00002              0.7   \n",
       "2              NaN         0.03      0.00002              NaN   \n",
       "3              NaN         0.03      0.00002              NaN   \n",
       "\n",
       "  params.criterion params.param2 params.param1 params.splitter  \\\n",
       "0             gini        value2        value1            best   \n",
       "1             gini          None          None            best   \n",
       "2             None          None          None            None   \n",
       "3             None          None          None            None   \n",
       "\n",
       "  params.Predictor tags.mlflow.user tags.mlflow.source.type  \\\n",
       "0             None     victormoreno                   LOCAL   \n",
       "1             None     victormoreno                   LOCAL   \n",
       "2          prophet     victormoreno                   LOCAL   \n",
       "3          prophet     victormoreno                   LOCAL   \n",
       "\n",
       "                       tags.mlflow.log-model.history tags.mlflow.source.name  \\\n",
       "0  [{\"run_id\": \"8a0edb2392c74ea6a30dde8b1ef16592\"...          mlflow_ntbk.py   \n",
       "1  [{\"run_id\": \"512dc043f1cd4fe39ba7095b4ab43e67\"...          mlflow_ntbk.py   \n",
       "2                                               None            test_runs.py   \n",
       "3                                               None            test_runs.py   \n",
       "\n",
       "  tags.mlflow.runName  \n",
       "0                run1  \n",
       "1                run1  \n",
       "2            FirstRun  \n",
       "3            FirstRun  "
      ]
     },
     "execution_count": 7,
     "metadata": {},
     "output_type": "execute_result"
    }
   ],
   "source": [
    "mlflow.search_runs(experiment_id)"
   ]
  },
  {
   "cell_type": "code",
   "execution_count": null,
   "metadata": {},
   "outputs": [],
   "source": [
    "#como ejemplo dejo la parte de cargar aparte , para evitar confusiones de que todo lo relacionado \n",
    "#a la ejecucion debe quedar dentro del contexto\n",
    "\n",
    "#Cargando la data y procesandola\n",
    "# load dataset and train model\n",
    "iris = load_iris()"
   ]
  },
  {
   "cell_type": "code",
   "execution_count": null,
   "metadata": {},
   "outputs": [],
   "source": [
    "with mlflow.start_run(experiment_id=experiment_id,\n",
    "                     run_name='run1') as run:\n",
    "    \n",
    "    #instantiating the DecisionTreeClassifier\n",
    "    sk_model = tree.DecisionTreeClassifier()\n",
    "    sk_model = sk_model.fit(iris.data, iris.target) \n",
    "\n",
    "    # log model params\n",
    "    #Los parametros , lo recomendado es poner hiperparametros del modelo o bueno parametros \n",
    "    # el concepto de mlflow es poner los parametros utilizados para entrenar el modelo y de esta forma ir comparando \n",
    "    # y ajustando basado en las metricas \n",
    "    mlflow.log_param(\"criterion\", sk_model.criterion)\n",
    "    mlflow.log_param(\"splitter\", sk_model.splitter)\n",
    "\n",
    "    #este es requisito para cuando se registra el modelo que no vamos hacer registro de modelos por ahora \n",
    "    #sin embargo ayuda como guia para cuando querramos usar el modelo entrenado para hacer inferencias\n",
    "    signature = infer_signature(iris.data, sk_model.predict(iris.data))\n",
    "\n",
    "    # log model\n",
    "    mlflow.sklearn.log_model(sk_model, \"sk_models\", signature=signature)\n",
    "\n",
    "    #Guardando metricas\n",
    "    mlflow.log_metric('MAE',0.00002)\n",
    "    mlflow.log_metric('mse',0.03)\n",
    "\n",
    "    #metricas y parametros pueden ser guardados con un solo comando \n",
    "    mlflow.log_metrics({'metric1':0.7,'metric2':0.08})\n",
    "    mflow.log_params({'param1':'value1','param2':'value2'})\n",
    "\n",
    "    #guardando imagenes de evidencia \n",
    "    mlflow.log_artifact('result.png')\n",
    "    mlflow.log_artifact('result2.png')\n"
   ]
  },
  {
   "cell_type": "markdown",
   "metadata": {},
   "source": [
    "# Nested runs\n",
    "por si se necesita \n"
   ]
  },
  {
   "cell_type": "markdown",
   "metadata": {},
   "source": [
    "with mlflow.start_run(experiment_id=experiment_id, run_name='parent_run') as p_run:\n",
    "    with mlflow.start_run(experiment_id=experiment_id, run_name='child_run') as c_run:\n",
    "\n",
    "        #put your code here "
   ]
  }
 ],
 "metadata": {
  "kernelspec": {
   "display_name": "tfm_jupyter_kernel",
   "language": "python",
   "name": "tfm_env_jp"
  },
  "language_info": {
   "codemirror_mode": {
    "name": "ipython",
    "version": 3
   },
   "file_extension": ".py",
   "mimetype": "text/x-python",
   "name": "python",
   "nbconvert_exporter": "python",
   "pygments_lexer": "ipython3",
   "version": "3.12.4"
  }
 },
 "nbformat": 4,
 "nbformat_minor": 2
}
